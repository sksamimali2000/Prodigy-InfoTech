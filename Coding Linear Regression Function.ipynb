{
  "nbformat": 4,
  "nbformat_minor": 0,
  "metadata": {
    "colab": {
      "provenance": [],
      "authorship_tag": "ABX9TyPgKB7gZ4KiQtAY8x9qVUen",
      "include_colab_link": true
    },
    "kernelspec": {
      "name": "python3",
      "display_name": "Python 3"
    },
    "language_info": {
      "name": "python"
    }
  },
  "cells": [
    {
      "cell_type": "markdown",
      "metadata": {
        "id": "view-in-github",
        "colab_type": "text"
      },
      "source": [
        "<a href=\"https://colab.research.google.com/github/sksamimali2000/Prodigy-InfoTech/blob/main/Coding%20Linear%20Regression%20Function.ipynb\" target=\"_parent\"><img src=\"https://colab.research.google.com/assets/colab-badge.svg\" alt=\"Open In Colab\"/></a>"
      ]
    },
    {
      "cell_type": "markdown",
      "source": [
        "### Coding Linear Regression"
      ],
      "metadata": {
        "id": "sYsEoUzlyS1j"
      }
    },
    {
      "cell_type": "code",
      "source": [
        "import numpy as np\n",
        "data=np.loadtxt(\"/content/dataforDummy data.csv\",delimiter=\",\")"
      ],
      "metadata": {
        "id": "cW4ItsjKybMh"
      },
      "execution_count": 12,
      "outputs": []
    },
    {
      "cell_type": "code",
      "source": [
        "X=data[:,0]\n",
        "Y=data[:,1]"
      ],
      "metadata": {
        "id": "oHlvsKchyuff"
      },
      "execution_count": 13,
      "outputs": []
    },
    {
      "cell_type": "code",
      "source": [
        "from sklearn import model_selection\n",
        "X_train,X_test,Y_train,Y_test=model_selection.train_test_split(X,Y,test_size=0.3)"
      ],
      "metadata": {
        "id": "nOsaa2oEy2MQ"
      },
      "execution_count": 14,
      "outputs": []
    },
    {
      "cell_type": "code",
      "source": [
        "X_train.shape"
      ],
      "metadata": {
        "colab": {
          "base_uri": "https://localhost:8080/"
        },
        "id": "_FOfp0lRzSvG",
        "outputId": "96748f39-df3d-4604-a1c6-785c2b2e3a12"
      },
      "execution_count": 15,
      "outputs": [
        {
          "output_type": "execute_result",
          "data": {
            "text/plain": [
              "(70,)"
            ]
          },
          "metadata": {},
          "execution_count": 15
        }
      ]
    },
    {
      "cell_type": "code",
      "source": [
        "def fit(X_train,Y_train):\n",
        "  num=(X_train*Y_train).mean()-X_train.mean()*Y_train.mean()\n",
        "  denum=(X_train**2).mean()-X_train.mean()**2\n",
        "  m=num/denum\n",
        "  c=Y_train.mean()-m*X_train.mean()\n",
        "  return m,c"
      ],
      "metadata": {
        "id": "itbIVs1pzVxV"
      },
      "execution_count": 18,
      "outputs": []
    },
    {
      "cell_type": "code",
      "source": [
        "def predict(X,m,c):\n",
        "  return m*X+c"
      ],
      "metadata": {
        "id": "AyfQuQqF0YSY"
      },
      "execution_count": 19,
      "outputs": []
    },
    {
      "cell_type": "code",
      "source": [
        "def score(Y_truth,Y_pred):\n",
        "  u=((Y_truth-Y_pred)**2).sum()\n",
        "  v=((Y_truth-Y_truth.mean())**2).sum()\n",
        "  return 1-u/v"
      ],
      "metadata": {
        "id": "AZDnozlm0iZX"
      },
      "execution_count": 20,
      "outputs": []
    },
    {
      "cell_type": "code",
      "source": [
        "def cost(X,Y,m,c):\n",
        "  return ((Y-m*X-c)**2).mean()\n",
        ""
      ],
      "metadata": {
        "id": "PXD0JJFl1MLp"
      },
      "execution_count": 21,
      "outputs": []
    },
    {
      "cell_type": "code",
      "source": [
        "  m,c =fit(X_train,Y_train)\n",
        "  #test data\n",
        "  Y_test_pred=predict(X_test,m,c)\n",
        "  print(\"test score: \",score(Y_test,Y_test_pred))\n",
        "  # train data\n",
        "  Y_train_pred=predict(X_train,m,c)\n",
        "  print(\"train score: \",score(Y_train,Y_train_pred))\n",
        "  print(\"M, C: \",m,c)\n",
        "  print(\"cost on training data: \",cost(X_train,Y_train,m,c))"
      ],
      "metadata": {
        "colab": {
          "base_uri": "https://localhost:8080/"
        },
        "id": "F5tN-KEO2tFQ",
        "outputId": "35215990-dd40-4130-d6b1-67b069fed703"
      },
      "execution_count": 22,
      "outputs": [
        {
          "output_type": "stream",
          "name": "stdout",
          "text": [
            "test score:  0.6524640905459431\n",
            "train score:  0.5561920422735338\n",
            "M, C:  1.2234637747043198 12.689329354703837\n",
            "cost on training data:  109.94541369124039\n"
          ]
        }
      ]
    }
  ]
}