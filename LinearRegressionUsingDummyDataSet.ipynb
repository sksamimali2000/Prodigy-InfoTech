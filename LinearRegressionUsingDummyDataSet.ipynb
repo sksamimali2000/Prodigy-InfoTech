{
  "nbformat": 4,
  "nbformat_minor": 0,
  "metadata": {
    "colab": {
      "provenance": [],
      "authorship_tag": "ABX9TyMyTA6zN9HhkfLvaLYyIF1m",
      "include_colab_link": true
    },
    "kernelspec": {
      "name": "python3",
      "display_name": "Python 3"
    },
    "language_info": {
      "name": "python"
    }
  },
  "cells": [
    {
      "cell_type": "markdown",
      "metadata": {
        "id": "view-in-github",
        "colab_type": "text"
      },
      "source": [
        "<a href=\"https://colab.research.google.com/github/sksamimali2000/Prodigy-InfoTech/blob/main/LinearRegressionUsingDummyDataSet.ipynb\" target=\"_parent\"><img src=\"https://colab.research.google.com/assets/colab-badge.svg\" alt=\"Open In Colab\"/></a>"
      ]
    },
    {
      "cell_type": "markdown",
      "source": [
        "### Analysis of Linear regression using dummy data set"
      ],
      "metadata": {
        "id": "UR3VFspxTdYb"
      }
    },
    {
      "cell_type": "code",
      "source": [
        "import numpy as np\n",
        "data=np.loadtxt('/content/dataforDummy data.csv',delimiter=',')"
      ],
      "metadata": {
        "id": "oR1WHeO-TpYH"
      },
      "execution_count": 27,
      "outputs": []
    },
    {
      "cell_type": "code",
      "source": [
        "data.shape"
      ],
      "metadata": {
        "colab": {
          "base_uri": "https://localhost:8080/"
        },
        "id": "BxY-_up-UCoY",
        "outputId": "f8e6d222-2a74-49f8-dac5-801a1e3692db"
      },
      "execution_count": 28,
      "outputs": [
        {
          "output_type": "execute_result",
          "data": {
            "text/plain": [
              "(100, 2)"
            ]
          },
          "metadata": {},
          "execution_count": 28
        }
      ]
    },
    {
      "cell_type": "code",
      "source": [
        "data"
      ],
      "metadata": {
        "colab": {
          "base_uri": "https://localhost:8080/"
        },
        "id": "bdvT_najUGk9",
        "outputId": "ac9d47b2-ebcb-48ca-ec0e-d0df0dc15c57"
      },
      "execution_count": 29,
      "outputs": [
        {
          "output_type": "execute_result",
          "data": {
            "text/plain": [
              "array([[ 32.50234527,  31.70700585],\n",
              "       [ 53.42680403,  68.77759598],\n",
              "       [ 61.53035803,  62.5623823 ],\n",
              "       [ 47.47563963,  71.54663223],\n",
              "       [ 59.81320787,  87.23092513],\n",
              "       [ 55.14218841,  78.21151827],\n",
              "       [ 52.21179669,  79.64197305],\n",
              "       [ 39.29956669,  59.17148932],\n",
              "       [ 48.10504169,  75.3312423 ],\n",
              "       [ 52.55001444,  71.30087989],\n",
              "       [ 45.41973014,  55.16567715],\n",
              "       [ 54.35163488,  82.47884676],\n",
              "       [ 44.1640495 ,  62.00892325],\n",
              "       [ 58.16847072,  75.39287043],\n",
              "       [ 56.72720806,  81.43619216],\n",
              "       [ 48.95588857,  60.72360244],\n",
              "       [ 44.68719623,  82.89250373],\n",
              "       [ 60.29732685,  97.37989686],\n",
              "       [ 45.61864377,  48.84715332],\n",
              "       [ 38.81681754,  56.87721319],\n",
              "       [ 66.18981661,  83.87856466],\n",
              "       [ 65.41605175, 118.5912173 ],\n",
              "       [ 47.48120861,  57.25181946],\n",
              "       [ 41.57564262,  51.39174408],\n",
              "       [ 51.84518691,  75.38065167],\n",
              "       [ 59.37082201,  74.76556403],\n",
              "       [ 57.31000344,  95.45505292],\n",
              "       [ 63.61556125,  95.22936602],\n",
              "       [ 46.73761941,  79.05240617],\n",
              "       [ 50.55676015,  83.43207142],\n",
              "       [ 52.22399609,  63.35879032],\n",
              "       [ 35.56783005,  41.4128853 ],\n",
              "       [ 42.43647694,  76.61734128],\n",
              "       [ 58.16454011,  96.76956643],\n",
              "       [ 57.50444762,  74.08413012],\n",
              "       [ 45.44053073,  66.58814441],\n",
              "       [ 61.89622268,  77.76848242],\n",
              "       [ 33.09383174,  50.71958891],\n",
              "       [ 36.43600951,  62.12457082],\n",
              "       [ 37.67565486,  60.81024665],\n",
              "       [ 44.55560838,  52.68298337],\n",
              "       [ 43.31828263,  58.56982472],\n",
              "       [ 50.07314563,  82.90598149],\n",
              "       [ 43.87061265,  61.4247098 ],\n",
              "       [ 62.99748075, 115.2441528 ],\n",
              "       [ 32.66904376,  45.57058882],\n",
              "       [ 40.16689901,  54.0840548 ],\n",
              "       [ 53.57507753,  87.99445276],\n",
              "       [ 33.86421497,  52.72549438],\n",
              "       [ 64.70713867,  93.57611869],\n",
              "       [ 38.11982403,  80.16627545],\n",
              "       [ 44.50253806,  65.10171157],\n",
              "       [ 40.59953838,  65.56230126],\n",
              "       [ 41.72067636,  65.28088692],\n",
              "       [ 51.08863468,  73.43464155],\n",
              "       [ 55.0780959 ,  71.13972786],\n",
              "       [ 41.37772653,  79.10282968],\n",
              "       [ 62.49469743,  86.52053844],\n",
              "       [ 49.20388754,  84.74269781],\n",
              "       [ 41.10268519,  59.35885025],\n",
              "       [ 41.18201611,  61.68403752],\n",
              "       [ 50.18638949,  69.84760416],\n",
              "       [ 52.37844622,  86.09829121],\n",
              "       [ 50.13548549,  59.10883927],\n",
              "       [ 33.64470601,  69.89968164],\n",
              "       [ 39.55790122,  44.86249071],\n",
              "       [ 56.13038882,  85.49806778],\n",
              "       [ 57.36205213,  95.53668685],\n",
              "       [ 60.26921439,  70.25193442],\n",
              "       [ 35.67809389,  52.72173496],\n",
              "       [ 31.588117  ,  50.39267014],\n",
              "       [ 53.66093226,  63.64239878],\n",
              "       [ 46.68222865,  72.24725107],\n",
              "       [ 43.10782022,  57.81251298],\n",
              "       [ 70.34607562, 104.2571016 ],\n",
              "       [ 44.49285588,  86.64202032],\n",
              "       [ 57.5045333 ,  91.486778  ],\n",
              "       [ 36.93007661,  55.23166089],\n",
              "       [ 55.80573336,  79.55043668],\n",
              "       [ 38.95476907,  44.84712424],\n",
              "       [ 56.9012147 ,  80.20752314],\n",
              "       [ 56.86890066,  83.14274979],\n",
              "       [ 34.3331247 ,  55.72348926],\n",
              "       [ 59.04974121,  77.63418251],\n",
              "       [ 57.78822399,  99.05141484],\n",
              "       [ 54.28232871,  79.12064627],\n",
              "       [ 51.0887199 ,  69.58889785],\n",
              "       [ 50.28283635,  69.51050331],\n",
              "       [ 44.21174175,  73.68756432],\n",
              "       [ 38.00548801,  61.36690454],\n",
              "       [ 32.94047994,  67.17065577],\n",
              "       [ 53.69163957,  85.66820315],\n",
              "       [ 68.76573427, 114.8538712 ],\n",
              "       [ 46.2309665 ,  90.12357207],\n",
              "       [ 68.31936082,  97.91982104],\n",
              "       [ 50.03017434,  81.53699078],\n",
              "       [ 49.23976534,  72.11183247],\n",
              "       [ 50.03957594,  85.23200734],\n",
              "       [ 48.14985889,  66.22495789],\n",
              "       [ 25.12848465,  53.45439421]])"
            ]
          },
          "metadata": {},
          "execution_count": 29
        }
      ]
    },
    {
      "cell_type": "code",
      "source": [
        "X=data[:,0].reshape(-1,1)\n",
        "Y=data[:,1]"
      ],
      "metadata": {
        "id": "EZwhYLv1UIOr"
      },
      "execution_count": 30,
      "outputs": []
    },
    {
      "cell_type": "code",
      "source": [
        "X.shape\n",
        "Y.shape"
      ],
      "metadata": {
        "colab": {
          "base_uri": "https://localhost:8080/"
        },
        "id": "Nvv-1QksUTY1",
        "outputId": "07d4c20e-6a97-4549-ee47-16ad1190e777"
      },
      "execution_count": 31,
      "outputs": [
        {
          "output_type": "execute_result",
          "data": {
            "text/plain": [
              "(100,)"
            ]
          },
          "metadata": {},
          "execution_count": 31
        }
      ]
    },
    {
      "cell_type": "code",
      "source": [
        "print(X.shape)"
      ],
      "metadata": {
        "colab": {
          "base_uri": "https://localhost:8080/"
        },
        "id": "BapL4Sv4UZLW",
        "outputId": "748029ab-6f57-45c0-87d9-72465c375a8b"
      },
      "execution_count": 32,
      "outputs": [
        {
          "output_type": "stream",
          "name": "stdout",
          "text": [
            "(100, 1)\n"
          ]
        }
      ]
    },
    {
      "cell_type": "code",
      "source": [
        "from sklearn import model_selection\n",
        "X_train,X_test,Y_train,Y_test=model_selection.train_test_split(X,Y)"
      ],
      "metadata": {
        "id": "pNQsRLd_Ude3"
      },
      "execution_count": 35,
      "outputs": []
    },
    {
      "cell_type": "code",
      "source": [
        "from sklearn.linear_model import LinearRegression\n",
        "alg1=LinearRegression()"
      ],
      "metadata": {
        "id": "i5-dVNm9U5co"
      },
      "execution_count": 36,
      "outputs": []
    },
    {
      "cell_type": "code",
      "source": [
        "alg1.fit(X_train,Y_train)"
      ],
      "metadata": {
        "colab": {
          "base_uri": "https://localhost:8080/",
          "height": 74
        },
        "id": "N9c3X3uRU0EE",
        "outputId": "72021956-905d-4b5e-c92b-e7d3faee2dbf"
      },
      "execution_count": 37,
      "outputs": [
        {
          "output_type": "execute_result",
          "data": {
            "text/plain": [
              "LinearRegression()"
            ],
            "text/html": [
              "<style>#sk-container-id-2 {color: black;}#sk-container-id-2 pre{padding: 0;}#sk-container-id-2 div.sk-toggleable {background-color: white;}#sk-container-id-2 label.sk-toggleable__label {cursor: pointer;display: block;width: 100%;margin-bottom: 0;padding: 0.3em;box-sizing: border-box;text-align: center;}#sk-container-id-2 label.sk-toggleable__label-arrow:before {content: \"▸\";float: left;margin-right: 0.25em;color: #696969;}#sk-container-id-2 label.sk-toggleable__label-arrow:hover:before {color: black;}#sk-container-id-2 div.sk-estimator:hover label.sk-toggleable__label-arrow:before {color: black;}#sk-container-id-2 div.sk-toggleable__content {max-height: 0;max-width: 0;overflow: hidden;text-align: left;background-color: #f0f8ff;}#sk-container-id-2 div.sk-toggleable__content pre {margin: 0.2em;color: black;border-radius: 0.25em;background-color: #f0f8ff;}#sk-container-id-2 input.sk-toggleable__control:checked~div.sk-toggleable__content {max-height: 200px;max-width: 100%;overflow: auto;}#sk-container-id-2 input.sk-toggleable__control:checked~label.sk-toggleable__label-arrow:before {content: \"▾\";}#sk-container-id-2 div.sk-estimator input.sk-toggleable__control:checked~label.sk-toggleable__label {background-color: #d4ebff;}#sk-container-id-2 div.sk-label input.sk-toggleable__control:checked~label.sk-toggleable__label {background-color: #d4ebff;}#sk-container-id-2 input.sk-hidden--visually {border: 0;clip: rect(1px 1px 1px 1px);clip: rect(1px, 1px, 1px, 1px);height: 1px;margin: -1px;overflow: hidden;padding: 0;position: absolute;width: 1px;}#sk-container-id-2 div.sk-estimator {font-family: monospace;background-color: #f0f8ff;border: 1px dotted black;border-radius: 0.25em;box-sizing: border-box;margin-bottom: 0.5em;}#sk-container-id-2 div.sk-estimator:hover {background-color: #d4ebff;}#sk-container-id-2 div.sk-parallel-item::after {content: \"\";width: 100%;border-bottom: 1px solid gray;flex-grow: 1;}#sk-container-id-2 div.sk-label:hover label.sk-toggleable__label {background-color: #d4ebff;}#sk-container-id-2 div.sk-serial::before {content: \"\";position: absolute;border-left: 1px solid gray;box-sizing: border-box;top: 0;bottom: 0;left: 50%;z-index: 0;}#sk-container-id-2 div.sk-serial {display: flex;flex-direction: column;align-items: center;background-color: white;padding-right: 0.2em;padding-left: 0.2em;position: relative;}#sk-container-id-2 div.sk-item {position: relative;z-index: 1;}#sk-container-id-2 div.sk-parallel {display: flex;align-items: stretch;justify-content: center;background-color: white;position: relative;}#sk-container-id-2 div.sk-item::before, #sk-container-id-2 div.sk-parallel-item::before {content: \"\";position: absolute;border-left: 1px solid gray;box-sizing: border-box;top: 0;bottom: 0;left: 50%;z-index: -1;}#sk-container-id-2 div.sk-parallel-item {display: flex;flex-direction: column;z-index: 1;position: relative;background-color: white;}#sk-container-id-2 div.sk-parallel-item:first-child::after {align-self: flex-end;width: 50%;}#sk-container-id-2 div.sk-parallel-item:last-child::after {align-self: flex-start;width: 50%;}#sk-container-id-2 div.sk-parallel-item:only-child::after {width: 0;}#sk-container-id-2 div.sk-dashed-wrapped {border: 1px dashed gray;margin: 0 0.4em 0.5em 0.4em;box-sizing: border-box;padding-bottom: 0.4em;background-color: white;}#sk-container-id-2 div.sk-label label {font-family: monospace;font-weight: bold;display: inline-block;line-height: 1.2em;}#sk-container-id-2 div.sk-label-container {text-align: center;}#sk-container-id-2 div.sk-container {/* jupyter's `normalize.less` sets `[hidden] { display: none; }` but bootstrap.min.css set `[hidden] { display: none !important; }` so we also need the `!important` here to be able to override the default hidden behavior on the sphinx rendered scikit-learn.org. See: https://github.com/scikit-learn/scikit-learn/issues/21755 */display: inline-block !important;position: relative;}#sk-container-id-2 div.sk-text-repr-fallback {display: none;}</style><div id=\"sk-container-id-2\" class=\"sk-top-container\"><div class=\"sk-text-repr-fallback\"><pre>LinearRegression()</pre><b>In a Jupyter environment, please rerun this cell to show the HTML representation or trust the notebook. <br />On GitHub, the HTML representation is unable to render, please try loading this page with nbviewer.org.</b></div><div class=\"sk-container\" hidden><div class=\"sk-item\"><div class=\"sk-estimator sk-toggleable\"><input class=\"sk-toggleable__control sk-hidden--visually\" id=\"sk-estimator-id-2\" type=\"checkbox\" checked><label for=\"sk-estimator-id-2\" class=\"sk-toggleable__label sk-toggleable__label-arrow\">LinearRegression</label><div class=\"sk-toggleable__content\"><pre>LinearRegression()</pre></div></div></div></div></div>"
            ]
          },
          "metadata": {},
          "execution_count": 37
        }
      ]
    },
    {
      "cell_type": "code",
      "source": [
        "alg1.coef_"
      ],
      "metadata": {
        "colab": {
          "base_uri": "https://localhost:8080/"
        },
        "id": "YyMcP_skT4fu",
        "outputId": "3bd3e4b1-5fde-4eb4-8bd8-ecfc59bacbfa"
      },
      "execution_count": 38,
      "outputs": [
        {
          "output_type": "execute_result",
          "data": {
            "text/plain": [
              "array([1.33845884])"
            ]
          },
          "metadata": {},
          "execution_count": 38
        }
      ]
    },
    {
      "cell_type": "code",
      "source": [
        "alg1.intercept_"
      ],
      "metadata": {
        "colab": {
          "base_uri": "https://localhost:8080/"
        },
        "id": "MfO6JLoeVjfC",
        "outputId": "37a07383-c8d7-44ce-a9aa-1a7e112f4f3d"
      },
      "execution_count": 39,
      "outputs": [
        {
          "output_type": "execute_result",
          "data": {
            "text/plain": [
              "8.375450141342881"
            ]
          },
          "metadata": {},
          "execution_count": 39
        }
      ]
    },
    {
      "cell_type": "code",
      "source": [
        "import matplotlib.pyplot as plt\n",
        "m=alg1.coef_[0]\n",
        "c=alg1.intercept_\n"
      ],
      "metadata": {
        "id": "O-osvMgAVm20"
      },
      "execution_count": 42,
      "outputs": []
    },
    {
      "cell_type": "code",
      "source": [
        "X_line=np.arange(30,70,0.1)\n",
        "Y_line=m*X_line+c\n",
        "plt.plot(X_line,Y_line,'r')\n",
        "train_1d=X_train.reshape(75)\n",
        "plt.scatter(X_train,Y_train)\n",
        "plt.show()"
      ],
      "metadata": {
        "colab": {
          "base_uri": "https://localhost:8080/",
          "height": 430
        },
        "id": "vKDtxJqDV4Fw",
        "outputId": "23af4401-ec59-470b-a524-dacae8eb41b0"
      },
      "execution_count": 43,
      "outputs": [
        {
          "output_type": "display_data",
          "data": {
            "text/plain": [
              "<Figure size 640x480 with 1 Axes>"
            ],
            "image/png": "[encoded data removed]"
          },
          "metadata": {}
        }
      ]
    },
    {
      "cell_type": "code",
      "source": [
        "X_line=np.arange(30,70,0.1)\n",
        "Y_line=m*X_line+c\n",
        "plt.plot(X_line,Y_line,'r')\n",
        "X_test_1d=X_test.reshape(25)\n",
        "plt.scatter(X_test,Y_test)\n",
        "plt.show()"
      ],
      "metadata": {
        "colab": {
          "base_uri": "https://localhost:8080/",
          "height": 430
        },
        "id": "6O9OjFzBWjjI",
        "outputId": "493c178e-24f6-4a38-f063-79a4c470d823"
      },
      "execution_count": 45,
      "outputs": [
        {
          "output_type": "display_data",
          "data": {
            "text/plain": [
              "<Figure size 640x480 with 1 Axes>"
            ],
            "image/png": "[encoded data removed]"
          },
          "metadata": {}
        }
      ]
    }
  ]
}